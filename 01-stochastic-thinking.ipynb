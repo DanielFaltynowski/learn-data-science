{
 "cells": [
  {
   "cell_type": "code",
   "execution_count": 1,
   "metadata": {},
   "outputs": [],
   "source": [
    "import random\n",
    "import math\n",
    "import numpy as np"
   ]
  },
  {
   "cell_type": "code",
   "execution_count": 2,
   "metadata": {},
   "outputs": [],
   "source": [
    "dice = [1, 2, 3, 4, 5, 6]"
   ]
  },
  {
   "cell_type": "markdown",
   "metadata": {},
   "source": [
    "# Testing randomness\n",
    "\n",
    "Function `random.choice(data: list)` returns random value from `data`.\n",
    "\n",
    "<br>\n",
    "\n",
    "Computer use an initial value called **seed** to start the number generation process. Usually algorithms uses **system's current time**, but exists thousands of methods to generate random numbers."
   ]
  },
  {
   "cell_type": "code",
   "execution_count": 3,
   "metadata": {},
   "outputs": [
    {
     "name": "stdout",
     "output_type": "stream",
     "text": [
      "6126415645\n",
      "5126552522\n",
      "1562213516\n",
      "3236623222\n",
      "5161664132\n",
      "2354126543\n",
      "4136515662\n",
      "3525653325\n",
      "1223424651\n",
      "5341325252\n"
     ]
    }
   ],
   "source": [
    "for num_test in range(10):\n",
    "    result = ''\n",
    "\n",
    "    for attempt in range(10):\n",
    "        result = result + str(random.choice(dice))\n",
    "\n",
    "    print(result)"
   ]
  },
  {
   "cell_type": "code",
   "execution_count": 4,
   "metadata": {},
   "outputs": [
    {
     "name": "stdout",
     "output_type": "stream",
     "text": [
      "4413544343\n",
      "4413544343\n",
      "4413544343\n",
      "4413544343\n",
      "4413544343\n",
      "4413544343\n",
      "4413544343\n",
      "4413544343\n",
      "4413544343\n",
      "4413544343\n"
     ]
    }
   ],
   "source": [
    "for num_test in range(10):\n",
    "    random.seed(0)\n",
    "\n",
    "    result = ''\n",
    "\n",
    "    for attempt in range(10):\n",
    "        result = result + str(random.choice(dice))\n",
    "\n",
    "    print(result)"
   ]
  },
  {
   "cell_type": "markdown",
   "metadata": {},
   "source": [
    "# A simulation of Die Rolling\n",
    "\n",
    "We want to simulate approximated probability that rolling five times we got combination `11111`.\n",
    "\n",
    "<br>\n",
    "\n",
    "We can calculate it using **multiplicative law**.\n",
    "\n",
    "<br>\n",
    "\n",
    "$\\mathcal{P}(x=11111)=\\frac{1}{6} \\times \\frac{1}{6} \\times \\frac{1}{6} \\times \\frac{1}{6} \\times \\frac{1}{6}=\\frac{1}{7776} \\approx$ `0.0001286`\n",
    "\n",
    "<br>\n",
    "\n",
    "We can prove it using **brute force algorithm**."
   ]
  },
  {
   "cell_type": "code",
   "execution_count": 5,
   "metadata": {},
   "outputs": [],
   "source": [
    "guess = '11111' # You can modify this value to check results for another combinations"
   ]
  },
  {
   "cell_type": "markdown",
   "metadata": {},
   "source": [
    "Assume that $n=$ size of a dice, and $k=$ size of guess."
   ]
  },
  {
   "cell_type": "markdown",
   "metadata": {},
   "source": [
    "### Hand-written algorithm"
   ]
  },
  {
   "cell_type": "code",
   "execution_count": 6,
   "metadata": {},
   "outputs": [
    {
     "name": "stdout",
     "output_type": "stream",
     "text": [
      "Guessed: 1\n",
      "Tests: 7776\n",
      "Probability: 0.0001286008230452675\n"
     ]
    }
   ],
   "source": [
    "num_guessed = 0\n",
    "num_tests = 0\n",
    "\n",
    "result = ''\n",
    "\n",
    "for first_digit in dice:\n",
    "    for second_digit in dice:\n",
    "        for third_digit in dice:\n",
    "            for fourth_digit in dice:\n",
    "                for fifth_digit in dice:\n",
    "                    result = result + str(first_digit) + str(second_digit) + str(third_digit) + str(fourth_digit) + str(fifth_digit)\n",
    "                    if result == guess:\n",
    "                        num_guessed = num_guessed + 1\n",
    "                    num_tests = num_tests + 1\n",
    "                    result = ''\n",
    "\n",
    "print('Guessed:', num_guessed)\n",
    "print('Tests:', num_tests)\n",
    "print('Probability:', num_guessed / num_tests)"
   ]
  },
  {
   "cell_type": "markdown",
   "metadata": {},
   "source": [
    "Time Complexity: $\\mathcal{O}(n^5)$, and \\\n",
    "Space Complexity: $\\mathcal{O}(n)$."
   ]
  },
  {
   "cell_type": "markdown",
   "metadata": {},
   "source": [
    "### Recursive algorithm"
   ]
  },
  {
   "cell_type": "code",
   "execution_count": 7,
   "metadata": {},
   "outputs": [
    {
     "name": "stdout",
     "output_type": "stream",
     "text": [
      "Guessed: 1\n",
      "Tests: 7776\n",
      "Probability: 0.0001286008230452675\n"
     ]
    }
   ],
   "source": [
    "num_guessed = 0\n",
    "num_tests = 0\n",
    "\n",
    "result = ''\n",
    "\n",
    "def recursive_algorithm(dice, guess):\n",
    "    recursive_loop(dice, guess, '', 0)\n",
    "\n",
    "\n",
    "def recursive_loop(dice, guess, current_result, depth):\n",
    "    global num_guessed, num_tests\n",
    "    if depth == len(guess):\n",
    "        if current_result == guess:\n",
    "            num_guessed = num_guessed + 1\n",
    "        num_tests = num_tests + 1\n",
    "    else:\n",
    "        for digit in dice:\n",
    "            recursive_loop(dice, guess, current_result + str(digit), depth + 1)\n",
    "\n",
    "\n",
    "recursive_algorithm(dice, guess)\n",
    "\n",
    "print('Guessed:', num_guessed)\n",
    "print('Tests:', num_tests)\n",
    "print('Probability:', num_guessed / num_tests)"
   ]
  },
  {
   "cell_type": "markdown",
   "metadata": {},
   "source": [
    "Time Complexity: $\\mathcal{O}(n^k)$, and \\\n",
    "Space Complexity: $\\mathcal{O}(n^k)$."
   ]
  },
  {
   "cell_type": "markdown",
   "metadata": {},
   "source": [
    "In cases where the number of values is small, the brute force algorithm is not a bad idea. However, when analyzing much more complex cases, it may prove to be too time-consuming for a computer. Therefore, in probability studies, algorithms based on **randomness** are often used."
   ]
  },
  {
   "cell_type": "markdown",
   "metadata": {},
   "source": [
    "### Stochastic Algorithm"
   ]
  },
  {
   "cell_type": "code",
   "execution_count": 8,
   "metadata": {},
   "outputs": [
    {
     "name": "stdout",
     "output_type": "stream",
     "text": [
      "Guessed: 0\n",
      "Trials: 1000\n",
      "Probability: 0.0\n"
     ]
    }
   ],
   "source": [
    "num_trials = 1000\n",
    "num_guessed = 0\n",
    "\n",
    "for trial in range(num_trials):\n",
    "    result = ''\n",
    "\n",
    "    for attempt in range(len(guess)):\n",
    "        result = result + str(random.choice(dice))\n",
    "    \n",
    "    if result == guess:\n",
    "        num_guessed = num_guessed + 1\n",
    "\n",
    "\n",
    "print('Guessed:', num_guessed)\n",
    "print('Trials:', num_trials)\n",
    "print('Probability:', num_guessed / num_trials)"
   ]
  },
  {
   "cell_type": "markdown",
   "metadata": {},
   "source": [
    "Time Complexity: $\\mathcal{O}(n^2)$ or maybe $\\mathcal{O}(n^3)$, because of `random.choice(data: list)`, and \\\n",
    "Space Complexity: $\\mathcal{O}(n)$."
   ]
  },
  {
   "cell_type": "markdown",
   "metadata": {},
   "source": [
    "It should be noted that simulation does not provide a 100% accurate result. However, it can be very useful when calculating complex processes. Also, the bigger number of trials, the better approximation we get."
   ]
  },
  {
   "cell_type": "code",
   "execution_count": 9,
   "metadata": {},
   "outputs": [
    {
     "name": "stdout",
     "output_type": "stream",
     "text": [
      "Guessed: 128\n",
      "Trials: 1000000\n",
      "Probability: 0.000128\n"
     ]
    }
   ],
   "source": [
    "num_trials = 1000000\n",
    "num_guessed = 0\n",
    "\n",
    "for trial in range(num_trials):\n",
    "    result = ''\n",
    "\n",
    "    for attempt in range(len(guess)):\n",
    "        result = result + str(random.choice(dice))\n",
    "    \n",
    "    if result == guess:\n",
    "        num_guessed = num_guessed + 1\n",
    "\n",
    "\n",
    "print('Guessed:', num_guessed)\n",
    "print('Trials:', num_trials)\n",
    "print('Probability:', num_guessed / num_trials)"
   ]
  },
  {
   "cell_type": "markdown",
   "metadata": {},
   "source": [
    "| Algorithm                               | Probability          |\n",
    "|-----------------------------------------|----------------------|\n",
    "| Hand-written algorithm                  | 0.0001286008230452675|\n",
    "| Recursive algorithm                     | 0.0001286008230452675|\n",
    "| Stochastic algorithm for 1000 trials    | 0.0                  |\n",
    "| Stochastic algorithm for 1000000 trials | 0.000128             |"
   ]
  },
  {
   "cell_type": "markdown",
   "metadata": {},
   "source": [
    "\n",
    "It can be observed that the runtime of this algorithm was the longest. However, this should not be a cause for concern, as the example is simple enough that it does not benefit much from a randomness-based approach. This does not mean, however, that the algorithm is useless for such simple computations. On the contrary, in the case of highly complex probabilities involving numerous scenarios, these algorithms become invaluable, even if they require greater computational power and potentially yield slightly less precise results."
   ]
  },
  {
   "cell_type": "markdown",
   "metadata": {},
   "source": [
    "# The power of simulation on example of the birthday problem"
   ]
  },
  {
   "cell_type": "markdown",
   "metadata": {},
   "source": [
    "**What is the probability that in a group of $n < 365$ at leats $k < n$ people share the same day and month of birth?**\n",
    "\n",
    "<br>\n",
    "\n",
    "The better way to calculate is to solve the opposite problem, when no one shares a birthday day and month using the following formula. \n",
    "$$\\mathcal{P}(X) = 1 - \\neg\\mathcal{P}(X)$$\n",
    "The birthday problem for 2 people would looks like\n",
    "\n",
    "$\\mathcal{P}($ at least two people share a birthday $) = 1 - \\mathcal{P}( $ no one shares a birthday $ ) $.\n",
    "\n",
    "The common knowledge of this problem is that $\\mathcal{P} ( $ no one shares a birthday $ ) = \\frac{365!}{(365 - n)! \\times 365^n}$.\n",
    "\n",
    "<br>\n",
    "\n",
    "The conclusion is the following formula.\n",
    "\n",
    "$\\mathcal{P} ( $ at leats two people share a birthday $ ) = 1 - \\frac{365!}{(365 - n)! \\times 365^n}$\n",
    "\n",
    "<br>\n",
    "\n",
    "Let's compare the simulation with the real result."
   ]
  },
  {
   "cell_type": "code",
   "execution_count": 10,
   "metadata": {},
   "outputs": [],
   "source": [
    "n = 10 # You can modify this value to check results for another combinations"
   ]
  },
  {
   "cell_type": "code",
   "execution_count": 11,
   "metadata": {},
   "outputs": [
    {
     "name": "stdout",
     "output_type": "stream",
     "text": [
      "Approximated Probability: 0.1147\n",
      "Real Probability: 0.11694817771107768\n"
     ]
    }
   ],
   "source": [
    "real_probability = 1 - ((math.factorial(365)) / (math.factorial(365 - n) * (365 ** n)))\n",
    "\n",
    "num_trials = 10000\n",
    "num_guessed = 0\n",
    "\n",
    "birthday_dates = [ day for day in range(365) ]\n",
    "\n",
    "for trial in range(num_trials):\n",
    "    calendar = [ 0 for day in range(365) ]\n",
    "\n",
    "    for group in range(n):\n",
    "        random_day = random.choice(birthday_dates)\n",
    "        calendar[random_day] = calendar[random_day] + 1\n",
    "    \n",
    "    for birthdays in calendar:\n",
    "        if birthdays >= 2:\n",
    "            num_guessed = num_guessed + 1\n",
    "            break\n",
    "\n",
    "print('Approximated Probability:', num_guessed / num_trials)\n",
    "print('Real Probability:', real_probability)"
   ]
  },
  {
   "cell_type": "markdown",
   "metadata": {},
   "source": [
    "This seems very simple to compute mathematically. However, the situation becomes much more challenging when $k = 10$. In such a case, you need to calculate \\\n",
    "$\\mathcal{P} ($ no one shares a birthday $ ) $, $\\mathcal{P} ($ exactly one pair shares a birthday $ ) $, $\\mathcal{P} ($ exactly two pairs shares a birthday $ ) $,  and so on.\n",
    "\n",
    "This is why simulations are so helpful for complex processes. For instance, when probabilities related to biological, chemical, or physical processes are involved, formulating a probability formula may prove to be too complicated."
   ]
  },
  {
   "cell_type": "markdown",
   "metadata": {},
   "source": [
    "Below you will find a ready-made program where you can set the group size, the number of people sharing the same birthday, and the number of experiments to be conducted. Remember, the more experiments you run, the more accurate the result will be."
   ]
  },
  {
   "cell_type": "code",
   "execution_count": 12,
   "metadata": {},
   "outputs": [],
   "source": [
    "k = 2 # You can modify this value to check results for another combinations\n",
    "n = 10 # You can modify this value to check results for another combinations\n",
    "num_trials = 100000 # You can modify this value to check results for another combinations"
   ]
  },
  {
   "cell_type": "code",
   "execution_count": 13,
   "metadata": {},
   "outputs": [
    {
     "name": "stdout",
     "output_type": "stream",
     "text": [
      "Approximated Probability: 0.11521\n"
     ]
    }
   ],
   "source": [
    "num_guessed = 0\n",
    "\n",
    "birthday_dates = [ day for day in range(365) ]\n",
    "\n",
    "for trial in range(num_trials):\n",
    "    calendar = [ 0 for day in range(365) ]\n",
    "\n",
    "    for group in range(n):\n",
    "        random_day = random.choice(birthday_dates)\n",
    "        calendar[random_day] = calendar[random_day] + 1\n",
    "    \n",
    "    for birthdays in calendar:\n",
    "        if birthdays >= k:\n",
    "            num_guessed = num_guessed + 1\n",
    "            break\n",
    "\n",
    "print('Approximated Probability:', num_guessed / num_trials)"
   ]
  }
 ],
 "metadata": {
  "kernelspec": {
   "display_name": "Python 3",
   "language": "python",
   "name": "python3"
  },
  "language_info": {
   "codemirror_mode": {
    "name": "ipython",
    "version": 3
   },
   "file_extension": ".py",
   "mimetype": "text/x-python",
   "name": "python",
   "nbconvert_exporter": "python",
   "pygments_lexer": "ipython3",
   "version": "3.12.4"
  }
 },
 "nbformat": 4,
 "nbformat_minor": 2
}
